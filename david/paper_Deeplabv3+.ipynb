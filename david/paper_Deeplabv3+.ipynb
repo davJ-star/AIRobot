{
 "cells": [
  {
   "cell_type": "markdown",
   "metadata": {},
   "source": [
    "## 참고\n",
    "pytorch_vision_deeplabv3_resnet101.ipynb에서 활용 및 비교함.\n",
    "[참고깃허브](https://github.com/VainF/DeepLabV3Plus-Pytorch)\n",
    "[참고캐글](https://www.kaggle.com/code/balraj98/deeplabv3-resnet101-for-segmentation-pytorch)"
   ]
  },
  {
   "cell_type": "code",
   "execution_count": null,
   "metadata": {},
   "outputs": [],
   "source": []
  },
  {
   "cell_type": "code",
   "execution_count": null,
   "metadata": {},
   "outputs": [],
   "source": []
  }
 ],
 "metadata": {
  "language_info": {
   "name": "python"
  }
 },
 "nbformat": 4,
 "nbformat_minor": 2
}
