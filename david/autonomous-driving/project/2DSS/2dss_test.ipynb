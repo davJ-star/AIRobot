{
 "cells": [
  {
   "cell_type": "markdown",
   "metadata": {},
   "source": [
    "# test"
   ]
  },
  {
   "cell_type": "code",
   "execution_count": null,
   "metadata": {},
   "outputs": [],
   "source": [
    "import os\n",
    "import json\n",
    "import cv2\n",
    "import numpy as np\n",
    "import torch\n",
    "from torch.utils.data import Dataset, DataLoader\n",
    "from torchvision.models.segmentation import deeplabv3_mobilenet_v3_large\n",
    "import albumentations as A\n",
    "from albumentations.pytorch import ToTensorV2\n",
    "\n",
    "# 테스트용 데이터셋 클래스 정의\n",
    "class TestDataset(Dataset):\n",
    "    def __init__(self, root_dir, transform=None):\n",
    "        self.root_dir = root_dir\n",
    "        self.transform = transform\n",
    "        self.images_dir = os.path.join(root_dir, 'images')\n",
    "        self.image_files = sorted(os.listdir(self.images_dir))\n",
    "\n",
    "    def __len__(self):\n",
    "        return len(self.image_files)\n",
    "\n",
    "    def __getitem__(self, idx):\n",
    "        img_name = self.image_files[idx]\n",
    "        img_path = os.path.join(self.images_dir, img_name)\n",
    "\n",
    "        image = cv2.imread(img_path)\n",
    "        image = cv2.cvtColor(image, cv2.COLOR_BGR2RGB)\n",
    "\n",
    "        if self.transform:\n",
    "            augmented = self.transform(image=image)\n",
    "            image = augmented['image']\n",
    "\n",
    "        return image, img_name\n",
    "\n",
    "# 테스트 데이터 변환 정의\n",
    "test_transform = A.Compose([\n",
    "    A.Resize(256, 256),\n",
    "    A.Normalize(mean=[0.485, 0.456, 0.406], std=[0.229, 0.224, 0.225]),\n",
    "    ToTensorV2(),\n",
    "])\n",
    "\n",
    "# 테스트 데이터셋 및 데이터로더 생성\n",
    "test_dataset = TestDataset(root_dir='test', transform=test_transform)\n",
    "test_loader = DataLoader(test_dataset, batch_size=1, shuffle=False, num_workers=4)\n",
    "\n",
    "# 모델 로드 및 설정\n",
    "model = deeplabv3_mobilenet_v3_large(pretrained=False, num_classes=25)\n",
    "model.load_state_dict(torch.load('best_autonomous_driving_segmentation_model.pth'))\n",
    "model.to(device)\n",
    "model.eval()\n",
    "\n",
    "# 예측 함수\n",
    "def predict(model, dataloader, device):\n",
    "    model.eval()\n",
    "    predictions = []\n",
    "    with torch.no_grad():\n",
    "        for images, img_names in dataloader:\n",
    "            images = images.to(device)\n",
    "            outputs = model(images)['out']\n",
    "            preds = torch.argmax(outputs, dim=1).cpu().numpy()\n",
    "\n",
    "            for i in range(len(img_names)):\n",
    "                pred_mask = preds[i]\n",
    "                img_name = img_names[i]\n",
    "                predictions.append((img_name, pred_mask))\n",
    "\n",
    "    return predictions\n",
    "\n",
    "# 예측 수행\n",
    "predictions = predict(model, test_loader, device)\n",
    "\n",
    "# 예측 결과 저장\n",
    "output_dir = 'predictions'\n",
    "os.makedirs(output_dir, exist_ok=True)\n",
    "\n",
    "for img_name, pred_mask in predictions:\n",
    "    # 결과 마스크를 이미지로 저장\n",
    "    pred_mask_resized = cv2.resize(pred_mask, (256, 256), interpolation=cv2.INTER_NEAREST)\n",
    "    output_path = os.path.join(output_dir, img_name.replace('.jpg', '_pred.png'))\n",
    "    cv2.imwrite(output_path, pred_mask_resized)\n",
    "\n",
    "print(\"Prediction complete. Predicted masks are saved in the 'predictions' directory.\")\n"
   ]
  },
  {
   "cell_type": "code",
   "execution_count": null,
   "metadata": {},
   "outputs": [],
   "source": []
  },
  {
   "cell_type": "markdown",
   "metadata": {},
   "source": [
    "## modified name with including 'split' string"
   ]
  },
  {
   "cell_type": "code",
   "execution_count": null,
   "metadata": {},
   "outputs": [],
   "source": []
  }
 ],
 "metadata": {
  "language_info": {
   "name": "python"
  }
 },
 "nbformat": 4,
 "nbformat_minor": 2
}
