{
  "cells": [
    {
      "cell_type": "markdown",
      "metadata": {
        "id": "view-in-github",
        "colab_type": "text"
      },
      "source": [
        "<a href=\"https://colab.research.google.com/github/davJ-star/AIRobot/blob/main/2dbb.ipynb\" target=\"_parent\"><img src=\"https://colab.research.google.com/assets/colab-badge.svg\" alt=\"Open In Colab\"/></a>"
      ]
    },
    {
      "cell_type": "code",
      "execution_count": null,
      "metadata": {
        "id": "FnBtrRfLcG_B",
        "outputId": "6195c6cc-3923-45b6-924c-823af1a8cfd4"
      },
      "outputs": [
        {
          "name": "stderr",
          "output_type": "stream",
          "text": [
            "INFO:albumentations.check_version:A new version of Albumentations is available: 1.4.12 (you have 1.4.10). Upgrade using: pip install --upgrade albumentations\n"
          ]
        }
      ],
      "source": [
        "import torch\n",
        "import torchvision\n",
        "import numpy as np\n",
        "import matplotlib.pyplot as plt\n",
        "import albumentations as A\n",
        "from albumentations.pytorch import ToTensorV2\n",
        "from torch.utils.data import DataLoader\n",
        "from torchvision import transforms\n",
        "from torchvision.models.segmentation import deeplabv3_resnet50\n"
      ]
    },
    {
      "cell_type": "markdown",
      "metadata": {
        "id": "3dSNotLccG_E"
      },
      "source": []
    },
    {
      "cell_type": "markdown",
      "metadata": {
        "id": "7rjOjyyicG_F"
      },
      "source": [
        "# 2.데이터 로더 구현"
      ]
    },
    {
      "cell_type": "code",
      "execution_count": null,
      "metadata": {
        "id": "WWJDrpLwcG_H"
      },
      "outputs": [],
      "source": [
        "class CustomDataset(torch.utils.data.Dataset):\n",
        "    def __init__(self, images_dir, masks_dir, transform=None):\n",
        "        self.images_dir = images_dir\n",
        "        self.masks_dir = masks_dir\n",
        "        self.transform = transform\n",
        "        # ... (이미지, 마스크 경로 리스트 생성)\n",
        "\n",
        "    def __getitem__(self, index):\n",
        "        image_path = self.images_dir[index]\n",
        "        mask_path = self.masks_dir[index]\n",
        "        # ... (이미지, 마스크 로딩 및 변환)\n",
        "\n",
        "    def __len__(self):\n",
        "        return len(self.images_dir)\n",
        "\n",
        "# 데이터 로더 생성\n",
        "train_dataset = CustomDataset(train_images_dir, train_masks_dir, transform=train_transforms)\n",
        "val_dataset = CustomDataset(val_images_dir, val_masks_dir, transform=val_transforms)\n",
        "train_loader = DataLoader(train_dataset, batch_size=16, shuffle=True)\n",
        "val_loader = DataLoader(val_dataset, batch_size=16, shuffle=False)\n"
      ]
    },
    {
      "cell_type": "markdown",
      "metadata": {
        "id": "No3WpSWmcG_J"
      },
      "source": [
        "# 3. 데이터 증강 파이프라인 구축"
      ]
    },
    {
      "cell_type": "code",
      "execution_count": null,
      "metadata": {
        "id": "jb9XOGGvcG_K"
      },
      "outputs": [],
      "source": [
        "# 예시: 도로 클래스에 대한 증강\n",
        "road_transforms = A.Compose([\n",
        "    A.RandomBrightnessContrast(p=0.2),\n",
        "    A.GaussianBlur(p=0.2),\n",
        "    A.RandomRotate90(p=0.5),\n",
        "    A.HorizontalFlip(p=0.5),\n",
        "    A.CoarseDropout(max_holes=8, max_height=32, max_width=32, p=0.5),\n",
        "    ToTensorV2()\n",
        "])\n"
      ]
    },
    {
      "cell_type": "markdown",
      "metadata": {
        "id": "rW-iHT0BcG_L"
      },
      "source": [
        "# 4. 모델 정의 및 학습"
      ]
    },
    {
      "cell_type": "code",
      "execution_count": null,
      "metadata": {
        "id": "gyZXA6E9cG_M"
      },
      "outputs": [],
      "source": [
        "# DeepLabv3+ 모델 로딩\n",
        "model = deeplabv3_resnet50(num_classes=25, aux_loss=True)  # 클래스 수에 맞게 조정\n",
        "\n",
        "# 손실 함수, optimizer 설정\n",
        "criterion = torch.nn.CrossEntropyLoss()\n",
        "optimizer = torch.optim.Adam(model.parameters(), lr=0.001)\n",
        "\n",
        "# 학습 루프\n",
        "for epoch in range(num_epochs):\n",
        "    for images, masks in train_loader:\n",
        "        # ... (forward, backward, optimize)\n",
        "        print(\"ing\")\n"
      ]
    },
    {
      "cell_type": "markdown",
      "metadata": {
        "id": "cerr1KbLcG_N"
      },
      "source": [
        "# 5. 평가"
      ]
    },
    {
      "cell_type": "code",
      "execution_count": null,
      "metadata": {
        "id": "SKpuspd8cG_O"
      },
      "outputs": [],
      "source": [
        "# IoU 계산 함수 정의\n",
        "def calculate_iou(pred, target):\n",
        "    # ... (IoU 계산 로직)\n",
        "\n",
        "# 모델 평가\n",
        "with torch.no_grad():\n",
        "    for images, masks in val_loader:\n",
        "        outputs = model(images)['out']\n",
        "        preds = torch.argmax(outputs, dim=1)\n",
        "        iou = calculate_iou(preds, masks)\n",
        "        print(f\"Epoch {epoch+1}/{num_epochs}, IoU: {iou:.4f}\")\n",
        "        # ... (예측, IoU 계산)\n",
        "\n"
      ]
    }
  ],
  "metadata": {
    "kernelspec": {
      "display_name": "kistAI",
      "language": "python",
      "name": "python3"
    },
    "language_info": {
      "codemirror_mode": {
        "name": "ipython",
        "version": 3
      },
      "file_extension": ".py",
      "mimetype": "text/x-python",
      "name": "python",
      "nbconvert_exporter": "python",
      "pygments_lexer": "ipython3",
      "version": "3.12.2"
    },
    "colab": {
      "provenance": [],
      "include_colab_link": true
    }
  },
  "nbformat": 4,
  "nbformat_minor": 0
}